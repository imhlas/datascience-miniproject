{
 "cells": [
  {
   "cell_type": "code",
   "execution_count": 4,
   "metadata": {},
   "outputs": [],
   "source": [
    "import sys\n",
    "sys.path.append('../')\n",
    "\n",
    "from main.data_mod import AlcoholDataset\n",
    "import matplotlib.pyplot as plt\n",
    "import numpy as np\n",
    "from sklearn.metrics import silhouette_score\n",
    "from kmodes.kprototypes import KPrototypes\n",
    "from sklearn.preprocessing import PowerTransformer\n",
    "\n",
    "#https://kprototypes.readthedocs.io/en/latest/api.html\n"
   ]
  },
  {
   "cell_type": "code",
   "execution_count": 5,
   "metadata": {},
   "outputs": [],
   "source": [
    "\n",
    "# Testing clustering with only frequency 'Every day'\n",
    "alc_edu_freq = AlcoholDataset(dataset_name='hlth_ehis_al1e', dataset_group='education', frequences= ['Every day']).get_dataset()\n",
    "alc_edu_freq_data = alc_edu_freq[alc_edu_freq['TIME_PERIOD'] == 2014].drop(['TIME_PERIOD'], axis=1)\n"
   ]
  },
  {
   "cell_type": "markdown",
   "metadata": {},
   "source": [
    "1. Testing with only one frequency value"
   ]
  },
  {
   "cell_type": "code",
   "execution_count": 6,
   "metadata": {},
   "outputs": [
    {
     "data": {
      "text/plain": [
       "[<matplotlib.lines.Line2D at 0x7f283be26f70>]"
      ]
     },
     "execution_count": 6,
     "metadata": {},
     "output_type": "execute_result"
    },
    {
     "data": {
      "image/png": "[encoded data removed]",
      "text/plain": [
       "<Figure size 432x288 with 1 Axes>"
      ]
     },
     "metadata": {
      "needs_background": "light"
     },
     "output_type": "display_data"
    }
   ],
   "source": [
    "# Test optimal number of cluster with elbow method\n",
    "\n",
    "cost = []\n",
    "for num_clusters in list(range(1,10)):\n",
    "    kproto = KPrototypes(n_clusters=num_clusters, init='Cao')\n",
    "    kproto.fit_predict(alc_edu_freq_data, categorical=[0,1,2,3])\n",
    "    cost.append(kproto.cost_)\n",
    "\n",
    "plt.plot(cost)\n"
   ]
  },
  {
   "cell_type": "code",
   "execution_count": 7,
   "metadata": {},
   "outputs": [
    {
     "name": "stdout",
     "output_type": "stream",
     "text": [
      "[139705.19724571536, 53579.57280995628, 35344.88496070997, 25668.63949993735, 22097.88009111332, 20313.881000660356, 19110.5658577523, 18141.77686795814, 17429.545381946053]\n"
     ]
    }
   ],
   "source": [
    "print(cost)"
   ]
  },
  {
   "cell_type": "code",
   "execution_count": 8,
   "metadata": {},
   "outputs": [],
   "source": [
    "# Testing with optimal number of clusters\n",
    "\n",
    "kproto = KPrototypes(n_clusters=3, init='Cao')\n",
    "clusters = kproto.fit_predict(alc_edu_freq_data, categorical=[0,1,2,3])\n",
    "\n",
    "cluster_dict =[]\n",
    "for c in clusters:\n",
    "    cluster_dict.append(c)\n",
    "\n",
    "alc_edu_freq_with_clusters = alc_edu_freq_data.copy()\n",
    "alc_edu_freq_with_clusters['clusters'] = cluster_dict"
   ]
  },
  {
   "cell_type": "code",
   "execution_count": 9,
   "metadata": {},
   "outputs": [],
   "source": [
    "alc_edu_freq_data_clust_0 = alc_edu_freq_with_clusters[alc_edu_freq_with_clusters['clusters'] == 0 ]\n",
    "alc_edu_freq_data_clust_1 = alc_edu_freq_with_clusters[alc_edu_freq_with_clusters['clusters'] == 1 ]\n",
    "alc_edu_freq_data_clust_2 = alc_edu_freq_with_clusters[alc_edu_freq_with_clusters['clusters'] == 2 ]"
   ]
  },
  {
   "cell_type": "markdown",
   "metadata": {},
   "source": [
    "2. Test with feature reduction applied to frequencies"
   ]
  },
  {
   "cell_type": "code",
   "execution_count": 10,
   "metadata": {},
   "outputs": [
    {
     "name": "stderr",
     "output_type": "stream",
     "text": [
      "/home/ncnella/Matikka/Introduction to data science/mini-project/datascience-miniproject/sandbox/../main/data_mod.py:94: SettingWithCopyWarning: \n",
      "A value is trying to be set on a copy of a slice from a DataFrame.\n",
      "Try using .loc[row_indexer,col_indexer] = value instead\n",
      "\n",
      "See the caveats in the documentation: https://pandas.pydata.org/pandas-docs/stable/user_guide/indexing.html#returning-a-view-versus-a-copy\n",
      "  self.filtered_data['frequenc'] = self.filtered_data['frequenc'].replace({\n"
     ]
    }
   ],
   "source": [
    "alc_edu_freq_red = AlcoholDataset(dataset_name='hlth_ehis_al1e',\n",
    "                                           dataset_group='education',\n",
    "                                           frequency_reduction=True\n",
    "                                           ).get_dataset()\n",
    "alc_edu_freq_red_data = alc_edu_freq_red[alc_edu_freq_red['TIME_PERIOD'] == 2014].drop(['TIME_PERIOD'], axis=1)\n",
    "\n",
    "\n",
    "# Preprocessing\n",
    "# https://antonsruberts.github.io/kproto-audience/\n",
    "\n",
    "for c in alc_edu_freq_red_data.select_dtypes(exclude='object').columns:\n",
    "    pt = PowerTransformer()\n",
    "    alc_edu_freq_red_data[c] =  pt.fit_transform(np.array(alc_edu_freq_red_data[c]).reshape(-1, 1))"
   ]
  },
  {
   "cell_type": "code",
   "execution_count": 12,
   "metadata": {},
   "outputs": [
    {
     "name": "stdout",
     "output_type": "stream",
     "text": [
      "<kneed.knee_locator.KneeLocator object at 0x7f2839a6b4f0>\n"
     ]
    },
    {
     "data": {
      "image/png": "[encoded data removed]",
      "text/plain": [
       "<Figure size 432x288 with 1 Axes>"
      ]
     },
     "metadata": {
      "needs_background": "light"
     },
     "output_type": "display_data"
    }
   ],
   "source": [
    "# Test optimal number of cluster with elbow method\n",
    "\n",
    "costs = []\n",
    "for num_clusters in list(range(1,10)):\n",
    "    kproto = KPrototypes(n_clusters=num_clusters, init='Cao')\n",
    "    kproto.fit_predict(alc_edu_freq_red_data, categorical=[0,1,2,3])\n",
    "    costs.append(kproto.cost_)\n",
    "\n",
    "plt.plot(costs)\n",
    "\n",
    "from kneed import KneeLocator\n",
    "\n",
    "cost_elbow = KneeLocator(x=range(1,10), y=costs, direction='decreasing')\n",
    "\n",
    "print(cost_elbow)"
   ]
  },
  {
   "cell_type": "code",
   "execution_count": 13,
   "metadata": {},
   "outputs": [
    {
     "name": "stdout",
     "output_type": "stream",
     "text": [
      "9\n"
     ]
    }
   ],
   "source": [
    "print(cost_elbow.elbow)"
   ]
  },
  {
   "cell_type": "code",
   "execution_count": 14,
   "metadata": {},
   "outputs": [
    {
     "name": "stdout",
     "output_type": "stream",
     "text": [
      "[139705.19724571536, 53579.57280995628, 35344.88496070997, 25668.63949993735, 22097.88009111332, 20313.881000660356, 19110.5658577523, 18141.77686795814, 17429.545381946053]\n"
     ]
    }
   ],
   "source": [
    "print(cost)"
   ]
  },
  {
   "cell_type": "code",
   "execution_count": 15,
   "metadata": {},
   "outputs": [],
   "source": [
    "# Testing with optimal number of clusters\n",
    "\n",
    "kproto = KPrototypes(n_clusters=3, init='Cao')\n",
    "clusters = kproto.fit_predict(alc_edu_freq_red_data, categorical=[0,1,2,3])\n",
    "\n",
    "cluster_dict =[]\n",
    "for c in clusters:\n",
    "    cluster_dict.append(c)\n",
    "\n",
    "alc_edu_freq_red_clusters = alc_edu_freq_red_data.copy()\n",
    "alc_edu_freq_red_clusters['clusters'] = cluster_dict\n",
    "\n",
    "alc_edu_freq_red_clusters.to_csv('../data/clusters/freq_education_clusters.csv')\n"
   ]
  },
  {
   "cell_type": "code",
   "execution_count": 16,
   "metadata": {},
   "outputs": [],
   "source": [
    "alc_edu_freq_red_clusters_0 = alc_edu_freq_red_clusters[alc_edu_freq_red_clusters['clusters'] == 0 ]\n",
    "alc_edu_freq_red_clusters_1 = alc_edu_freq_red_clusters[alc_edu_freq_red_clusters['clusters'] == 1 ]\n",
    "alc_edu_freq_red_clusters_2 = alc_edu_freq_red_clusters[alc_edu_freq_red_clusters['clusters'] == 2 ]"
   ]
  },
  {
   "cell_type": "markdown",
   "metadata": {},
   "source": [
    "2. Test with feature reduction applied to frequencies and different age group"
   ]
  },
  {
   "cell_type": "code",
   "execution_count": 18,
   "metadata": {},
   "outputs": [
    {
     "name": "stderr",
     "output_type": "stream",
     "text": [
      "/home/ncnella/Matikka/Introduction to data science/mini-project/datascience-miniproject/sandbox/../main/data_mod.py:94: SettingWithCopyWarning: \n",
      "A value is trying to be set on a copy of a slice from a DataFrame.\n",
      "Try using .loc[row_indexer,col_indexer] = value instead\n",
      "\n",
      "See the caveats in the documentation: https://pandas.pydata.org/pandas-docs/stable/user_guide/indexing.html#returning-a-view-versus-a-copy\n",
      "  self.filtered_data['frequenc'] = self.filtered_data['frequenc'].replace({\n"
     ]
    }
   ],
   "source": [
    "new_age_group = ['From 18 to 44 years','From 45 to 64 years','65 years or over']\n",
    "\n",
    "alc_edu_freq_red_ages = AlcoholDataset(dataset_name='hlth_ehis_al1e',\n",
    "                                           dataset_group='education',\n",
    "                                           frequency_reduction=True,\n",
    "                                           ages=new_age_group\n",
    "                                           ).get_dataset()\n",
    "\n",
    "alc_edu_freq_red_ages = alc_edu_freq_red_ages[alc_edu_freq_red_ages['TIME_PERIOD'] == 2014].drop(['TIME_PERIOD'], axis=1)\n",
    "\n",
    "for c in alc_edu_freq_red_ages.select_dtypes(exclude='object').columns:\n",
    "    pt = PowerTransformer()\n",
    "    alc_edu_freq_red_ages[c] =  pt.fit_transform(np.array(alc_edu_freq_red_ages[c]).reshape(-1, 1))"
   ]
  },
  {
   "cell_type": "code",
   "execution_count": 19,
   "metadata": {},
   "outputs": [
    {
     "data": {
      "text/plain": [
       "[<matplotlib.lines.Line2D at 0x7f28399d96d0>]"
      ]
     },
     "execution_count": 19,
     "metadata": {},
     "output_type": "execute_result"
    },
    {
     "data": {
      "image/png": "[encoded data removed]",
      "text/plain": [
       "<Figure size 432x288 with 1 Axes>"
      ]
     },
     "metadata": {
      "needs_background": "light"
     },
     "output_type": "display_data"
    }
   ],
   "source": [
    "# Test optimal number of cluster with elbow method\n",
    "\n",
    "costs = []\n",
    "\n",
    "for num_clusters in list(range(1,10)):\n",
    "    kproto = KPrototypes(n_clusters=num_clusters, init='Cao')\n",
    "    clusters = kproto.fit_predict(alc_edu_freq_red_ages, categorical=[0,1,2,3])\n",
    "    costs.append(kproto.cost_)\n",
    "\n",
    "plt.plot(costs)"
   ]
  },
  {
   "cell_type": "code",
   "execution_count": 20,
   "metadata": {},
   "outputs": [
    {
     "name": "stdout",
     "output_type": "stream",
     "text": [
      "[2217.000000000002, 1495.6910994435361, 1135.2050040806462, 998.5305428589295, 903.2141425433082, 833.364779300824, 799.873254974857, 763.9024945491796, 737.6311576022014]\n",
      "3\n"
     ]
    }
   ],
   "source": [
    "print(costs)\n",
    "cost_elbow = KneeLocator(x=range(1,10), y=costs, curve='convex', direction='decreasing')\n",
    "print(cost_elbow.elbow)"
   ]
  },
  {
   "cell_type": "code",
   "execution_count": 23,
   "metadata": {},
   "outputs": [],
   "source": [
    "cluster_dict =[]\n",
    "for c in clusters:\n",
    "    cluster_dict.append(c)\n",
    "\n",
    "alc_edu_freq_red_ages_clusters = alc_edu_freq_red_ages.copy()\n",
    "alc_edu_freq_red_ages_clusters['clusters'] = cluster_dict"
   ]
  }
 ],
 "metadata": {
  "kernelspec": {
   "display_name": "Python 3",
   "language": "python",
   "name": "python3"
  },
  "language_info": {
   "codemirror_mode": {
    "name": "ipython",
    "version": 3
   },
   "file_extension": ".py",
   "mimetype": "text/x-python",
   "name": "python",
   "nbconvert_exporter": "python",
   "pygments_lexer": "ipython3",
   "version": "3.8.10"
  }
 },
 "nbformat": 4,
 "nbformat_minor": 2
}
