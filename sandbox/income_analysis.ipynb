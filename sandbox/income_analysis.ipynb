{
 "cells": [
  {
   "cell_type": "code",
   "execution_count": 1,
   "metadata": {},
   "outputs": [
    {
     "data": {
      "text/html": [
       "<div>\n",
       "<style scoped>\n",
       "    .dataframe tbody tr th:only-of-type {\n",
       "        vertical-align: middle;\n",
       "    }\n",
       "\n",
       "    .dataframe tbody tr th {\n",
       "        vertical-align: top;\n",
       "    }\n",
       "\n",
       "    .dataframe thead th {\n",
       "        text-align: right;\n",
       "    }\n",
       "</style>\n",
       "<table border=\"1\" class=\"dataframe\">\n",
       "  <thead>\n",
       "    <tr style=\"text-align: right;\">\n",
       "      <th>frequenc</th>\n",
       "      <th>age</th>\n",
       "      <th>geo</th>\n",
       "      <th>sex</th>\n",
       "      <th>quant_inc</th>\n",
       "      <th>Every day</th>\n",
       "    </tr>\n",
       "  </thead>\n",
       "  <tbody>\n",
       "    <tr>\n",
       "      <th>0</th>\n",
       "      <td>75 years or over</td>\n",
       "      <td>Austria</td>\n",
       "      <td>Females</td>\n",
       "      <td>Fifth quintile</td>\n",
       "      <td>14.8</td>\n",
       "    </tr>\n",
       "    <tr>\n",
       "      <th>1</th>\n",
       "      <td>75 years or over</td>\n",
       "      <td>Austria</td>\n",
       "      <td>Females</td>\n",
       "      <td>First quintile</td>\n",
       "      <td>5.9</td>\n",
       "    </tr>\n",
       "    <tr>\n",
       "      <th>2</th>\n",
       "      <td>75 years or over</td>\n",
       "      <td>Austria</td>\n",
       "      <td>Females</td>\n",
       "      <td>Fourth quintile</td>\n",
       "      <td>7.7</td>\n",
       "    </tr>\n",
       "    <tr>\n",
       "      <th>3</th>\n",
       "      <td>75 years or over</td>\n",
       "      <td>Austria</td>\n",
       "      <td>Females</td>\n",
       "      <td>Second quintile</td>\n",
       "      <td>5.1</td>\n",
       "    </tr>\n",
       "    <tr>\n",
       "      <th>4</th>\n",
       "      <td>75 years or over</td>\n",
       "      <td>Austria</td>\n",
       "      <td>Females</td>\n",
       "      <td>Third quintile</td>\n",
       "      <td>5.4</td>\n",
       "    </tr>\n",
       "  </tbody>\n",
       "</table>\n",
       "</div>"
      ],
      "text/plain": [
       "frequenc               age      geo      sex        quant_inc  Every day\n",
       "0         75 years or over  Austria  Females   Fifth quintile       14.8\n",
       "1         75 years or over  Austria  Females   First quintile        5.9\n",
       "2         75 years or over  Austria  Females  Fourth quintile        7.7\n",
       "3         75 years or over  Austria  Females  Second quintile        5.1\n",
       "4         75 years or over  Austria  Females   Third quintile        5.4"
      ]
     },
     "execution_count": 1,
     "metadata": {},
     "output_type": "execute_result"
    }
   ],
   "source": [
    "import data_mod as eurostat\n",
    "import matplotlib.pyplot as plt\n",
    "from kmodes.kprototypes import KPrototypes\n",
    "\n",
    "# Testing clustering with only frequency 'Every day'\n",
    "alc_income_freq = eurostat.AlcoholDataset(dataset_name='hlth_ehis_al1i', dataset_group='income', frequences= ['Every day']).get_dataset()\n",
    "income_data = alc_income_freq[alc_income_freq['TIME_PERIOD'] == 2014].drop(['TIME_PERIOD'], axis=1)\n",
    "income_data.head()"
   ]
  },
  {
   "cell_type": "code",
   "execution_count": 2,
   "metadata": {},
   "outputs": [
    {
     "data": {
      "text/plain": [
       "[<matplotlib.lines.Line2D at 0x232c3983290>]"
      ]
     },
     "execution_count": 2,
     "metadata": {},
     "output_type": "execute_result"
    },
    {
     "data": {
      "image/png": "[encoded data removed]",
      "text/plain": [
       "<Figure size 640x480 with 1 Axes>"
      ]
     },
     "metadata": {},
     "output_type": "display_data"
    }
   ],
   "source": [
    "# Test optimal number of cluster with elbow method\n",
    "\n",
    "cost = []\n",
    "for num_clusters in list(range(1,10)):\n",
    "    kproto = KPrototypes(n_clusters=num_clusters, init='Cao')\n",
    "    kproto.fit_predict(income_data, categorical=[0,1,2,3])\n",
    "    cost.append(kproto.cost_)\n",
    "\n",
    "plt.plot(cost)"
   ]
  },
  {
   "cell_type": "code",
   "execution_count": 3,
   "metadata": {},
   "outputs": [
    {
     "name": "stdout",
     "output_type": "stream",
     "text": [
      "[246560.92247365016, 96555.22743957427, 60172.67721977713, 46335.78861764185, 39696.265922666316, 35905.744946400046, 33745.632224993424, 32233.975007122554, 30621.472057904102]\n",
      "frequenc               age      geo      sex        quant_inc  Every day\n",
      "0         75 years or over  Austria  Females   Fifth quintile       14.8\n",
      "1         75 years or over  Austria  Females   First quintile        5.9\n",
      "2         75 years or over  Austria  Females  Fourth quintile        7.7\n",
      "3         75 years or over  Austria  Females  Second quintile        5.1\n",
      "4         75 years or over  Austria  Females   Third quintile        5.4\n"
     ]
    }
   ],
   "source": [
    "print(cost)\n",
    "print(income_data.head())"
   ]
  },
  {
   "cell_type": "code",
   "execution_count": 4,
   "metadata": {},
   "outputs": [
    {
     "data": {
      "text/html": [
       "<div>\n",
       "<style scoped>\n",
       "    .dataframe tbody tr th:only-of-type {\n",
       "        vertical-align: middle;\n",
       "    }\n",
       "\n",
       "    .dataframe tbody tr th {\n",
       "        vertical-align: top;\n",
       "    }\n",
       "\n",
       "    .dataframe thead th {\n",
       "        text-align: right;\n",
       "    }\n",
       "</style>\n",
       "<table border=\"1\" class=\"dataframe\">\n",
       "  <thead>\n",
       "    <tr style=\"text-align: right;\">\n",
       "      <th>frequenc</th>\n",
       "      <th>age</th>\n",
       "      <th>geo</th>\n",
       "      <th>sex</th>\n",
       "      <th>quant_inc</th>\n",
       "      <th>Every day</th>\n",
       "      <th>clusters</th>\n",
       "    </tr>\n",
       "  </thead>\n",
       "  <tbody>\n",
       "    <tr>\n",
       "      <th>0</th>\n",
       "      <td>75 years or over</td>\n",
       "      <td>Austria</td>\n",
       "      <td>Females</td>\n",
       "      <td>Fifth quintile</td>\n",
       "      <td>14.8</td>\n",
       "      <td>1</td>\n",
       "    </tr>\n",
       "    <tr>\n",
       "      <th>1</th>\n",
       "      <td>75 years or over</td>\n",
       "      <td>Austria</td>\n",
       "      <td>Females</td>\n",
       "      <td>First quintile</td>\n",
       "      <td>5.9</td>\n",
       "      <td>0</td>\n",
       "    </tr>\n",
       "    <tr>\n",
       "      <th>2</th>\n",
       "      <td>75 years or over</td>\n",
       "      <td>Austria</td>\n",
       "      <td>Females</td>\n",
       "      <td>Fourth quintile</td>\n",
       "      <td>7.7</td>\n",
       "      <td>0</td>\n",
       "    </tr>\n",
       "    <tr>\n",
       "      <th>3</th>\n",
       "      <td>75 years or over</td>\n",
       "      <td>Austria</td>\n",
       "      <td>Females</td>\n",
       "      <td>Second quintile</td>\n",
       "      <td>5.1</td>\n",
       "      <td>0</td>\n",
       "    </tr>\n",
       "    <tr>\n",
       "      <th>4</th>\n",
       "      <td>75 years or over</td>\n",
       "      <td>Austria</td>\n",
       "      <td>Females</td>\n",
       "      <td>Third quintile</td>\n",
       "      <td>5.4</td>\n",
       "      <td>0</td>\n",
       "    </tr>\n",
       "  </tbody>\n",
       "</table>\n",
       "</div>"
      ],
      "text/plain": [
       "frequenc               age      geo      sex        quant_inc  Every day  \\\n",
       "0         75 years or over  Austria  Females   Fifth quintile       14.8   \n",
       "1         75 years or over  Austria  Females   First quintile        5.9   \n",
       "2         75 years or over  Austria  Females  Fourth quintile        7.7   \n",
       "3         75 years or over  Austria  Females  Second quintile        5.1   \n",
       "4         75 years or over  Austria  Females   Third quintile        5.4   \n",
       "\n",
       "frequenc  clusters  \n",
       "0                1  \n",
       "1                0  \n",
       "2                0  \n",
       "3                0  \n",
       "4                0  "
      ]
     },
     "execution_count": 4,
     "metadata": {},
     "output_type": "execute_result"
    }
   ],
   "source": [
    "# Testing with optimal number of clusters\n",
    "\n",
    "kproto = KPrototypes(n_clusters=3, init='Cao')\n",
    "clusters = kproto.fit_predict(income_data, categorical=[0,1,2,3])\n",
    "\n",
    "cluster_dict =[]\n",
    "for c in clusters:\n",
    "    cluster_dict.append(c)\n",
    "\n",
    "income_data_with_clusters = income_data.copy()\n",
    "income_data_with_clusters['clusters'] = cluster_dict\n",
    "\n",
    "income_data_with_clusters.head()\n",
    "\n"
   ]
  },
  {
   "cell_type": "code",
   "execution_count": 5,
   "metadata": {},
   "outputs": [
    {
     "data": {
      "text/html": [
       "<div>\n",
       "<style scoped>\n",
       "    .dataframe tbody tr th:only-of-type {\n",
       "        vertical-align: middle;\n",
       "    }\n",
       "\n",
       "    .dataframe tbody tr th {\n",
       "        vertical-align: top;\n",
       "    }\n",
       "\n",
       "    .dataframe thead th {\n",
       "        text-align: right;\n",
       "    }\n",
       "</style>\n",
       "<table border=\"1\" class=\"dataframe\">\n",
       "  <thead>\n",
       "    <tr style=\"text-align: right;\">\n",
       "      <th>frequenc</th>\n",
       "      <th>age</th>\n",
       "      <th>geo</th>\n",
       "      <th>sex</th>\n",
       "      <th>quant_inc</th>\n",
       "      <th>Every day</th>\n",
       "      <th>clusters</th>\n",
       "    </tr>\n",
       "  </thead>\n",
       "  <tbody>\n",
       "    <tr>\n",
       "      <th>1</th>\n",
       "      <td>75 years or over</td>\n",
       "      <td>Austria</td>\n",
       "      <td>Females</td>\n",
       "      <td>First quintile</td>\n",
       "      <td>5.9</td>\n",
       "      <td>0</td>\n",
       "    </tr>\n",
       "    <tr>\n",
       "      <th>2</th>\n",
       "      <td>75 years or over</td>\n",
       "      <td>Austria</td>\n",
       "      <td>Females</td>\n",
       "      <td>Fourth quintile</td>\n",
       "      <td>7.7</td>\n",
       "      <td>0</td>\n",
       "    </tr>\n",
       "    <tr>\n",
       "      <th>3</th>\n",
       "      <td>75 years or over</td>\n",
       "      <td>Austria</td>\n",
       "      <td>Females</td>\n",
       "      <td>Second quintile</td>\n",
       "      <td>5.1</td>\n",
       "      <td>0</td>\n",
       "    </tr>\n",
       "    <tr>\n",
       "      <th>4</th>\n",
       "      <td>75 years or over</td>\n",
       "      <td>Austria</td>\n",
       "      <td>Females</td>\n",
       "      <td>Third quintile</td>\n",
       "      <td>5.4</td>\n",
       "      <td>0</td>\n",
       "    </tr>\n",
       "    <tr>\n",
       "      <th>40</th>\n",
       "      <td>75 years or over</td>\n",
       "      <td>Bulgaria</td>\n",
       "      <td>Females</td>\n",
       "      <td>Fifth quintile</td>\n",
       "      <td>0.0</td>\n",
       "      <td>0</td>\n",
       "    </tr>\n",
       "  </tbody>\n",
       "</table>\n",
       "</div>"
      ],
      "text/plain": [
       "frequenc               age       geo      sex        quant_inc  Every day  \\\n",
       "1         75 years or over   Austria  Females   First quintile        5.9   \n",
       "2         75 years or over   Austria  Females  Fourth quintile        7.7   \n",
       "3         75 years or over   Austria  Females  Second quintile        5.1   \n",
       "4         75 years or over   Austria  Females   Third quintile        5.4   \n",
       "40        75 years or over  Bulgaria  Females   Fifth quintile        0.0   \n",
       "\n",
       "frequenc  clusters  \n",
       "1                0  \n",
       "2                0  \n",
       "3                0  \n",
       "4                0  \n",
       "40               0  "
      ]
     },
     "execution_count": 5,
     "metadata": {},
     "output_type": "execute_result"
    }
   ],
   "source": [
    "income_data_clust_0 = income_data_with_clusters[income_data_with_clusters['clusters'] == 0 ]\n",
    "income_data_clust_1 = income_data_with_clusters[income_data_with_clusters['clusters'] == 1 ]\n",
    "income_data_clust_2 = income_data_with_clusters[income_data_with_clusters['clusters'] == 2 ]\n",
    "\n",
    "income_data_clust_0.head()"
   ]
  },
  {
   "cell_type": "code",
   "execution_count": 6,
   "metadata": {},
   "outputs": [
    {
     "data": {
      "image/png": "[encoded data removed]",
      "text/plain": [
       "<Figure size 640x480 with 1 Axes>"
      ]
     },
     "metadata": {},
     "output_type": "display_data"
    }
   ],
   "source": [
    "import seaborn as sns\n",
    "\n",
    "sns.boxplot(x='clusters', y='Every day', data=income_data_with_clusters)\n",
    "plt.title(\"Distribution of 'Every day' Drinking by Cluster\")\n",
    "plt.show()"
   ]
  },
  {
   "cell_type": "code",
   "execution_count": 7,
   "metadata": {},
   "outputs": [
    {
     "name": "stdout",
     "output_type": "stream",
     "text": [
      "Every day mean consumption by cluster:\n",
      " clusters\n",
      "0     2.230027\n",
      "1    17.159840\n",
      "2    41.744565\n",
      "Name: Every day, dtype: float64\n"
     ]
    }
   ],
   "source": [
    "cluster_every_day_means = income_data_with_clusters.groupby('clusters')['Every day'].mean()\n",
    "\n",
    "print(\"Every day mean consumption by cluster:\\n\", cluster_every_day_means)\n"
   ]
  },
  {
   "cell_type": "code",
   "execution_count": 8,
   "metadata": {},
   "outputs": [
    {
     "name": "stdout",
     "output_type": "stream",
     "text": [
      "Average daily consumption by cluster and income quintile:\n",
      " clusters  quant_inc      \n",
      "0         Fifth quintile      2.202649\n",
      "          First quintile      2.166667\n",
      "          Fourth quintile     2.277632\n",
      "          Second quintile     2.379139\n",
      "          Third quintile      2.117586\n",
      "1         Fifth quintile     17.672308\n",
      "          First quintile     17.003571\n",
      "          Fourth quintile    17.443077\n",
      "          Second quintile    17.486842\n",
      "          Third quintile     16.422093\n",
      "2         Fifth quintile     40.376000\n",
      "          First quintile     40.200000\n",
      "          Fourth quintile    42.065217\n",
      "          Second quintile    43.464286\n",
      "          Third quintile     43.268750\n",
      "Name: Every day, dtype: float64\n"
     ]
    }
   ],
   "source": [
    "cluster_income_means = income_data_with_clusters.groupby(['clusters', 'quant_inc'])['Every day'].mean()\n",
    "print(\"Average daily consumption by cluster and income quintile:\\n\", cluster_income_means)\n"
   ]
  },
  {
   "cell_type": "code",
   "execution_count": 9,
   "metadata": {},
   "outputs": [
    {
     "data": {
      "image/png": "[encoded data removed]",
      "text/plain": [
       "<Figure size 1200x600 with 1 Axes>"
      ]
     },
     "metadata": {},
     "output_type": "display_data"
    }
   ],
   "source": [
    "cluster_sex_percentages = income_data_with_clusters.groupby(['clusters', 'sex']).size().reset_index(name='count')\n",
    "total_counts = cluster_sex_percentages.groupby('clusters')['count'].sum().reset_index(name='total')\n",
    "cluster_sex_percentages = cluster_sex_percentages.merge(total_counts, on='clusters')\n",
    "cluster_sex_percentages['percentage'] = cluster_sex_percentages['count'] / cluster_sex_percentages['total'] * 100\n",
    "\n",
    "plt.figure(figsize=(12, 6))\n",
    "sns.barplot(x='clusters', y='percentage', hue='sex', data=cluster_sex_percentages, palette='Set2')\n",
    "plt.title(\"Percentage Gender Distribution by Cluster\")\n",
    "plt.xlabel(\"Clusters\")\n",
    "plt.ylabel(\"Percentage\")\n",
    "plt.legend(title='Sex')\n",
    "plt.show()\n"
   ]
  }
 ],
 "metadata": {
  "kernelspec": {
   "display_name": "Python 3",
   "language": "python",
   "name": "python3"
  },
  "language_info": {
   "codemirror_mode": {
    "name": "ipython",
    "version": 3
   },
   "file_extension": ".py",
   "mimetype": "text/x-python",
   "name": "python",
   "nbconvert_exporter": "python",
   "pygments_lexer": "ipython3",
   "version": "3.11.1"
  }
 },
 "nbformat": 4,
 "nbformat_minor": 2
}
