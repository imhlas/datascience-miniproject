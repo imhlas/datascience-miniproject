{
 "cells": [
  {
   "cell_type": "code",
   "execution_count": 18,
   "metadata": {},
   "outputs": [],
   "source": [
    "import eurostat_datasets_1 as eurostat\n",
    "import matplotlib.pyplot as plt\n",
    "from kmodes.kprototypes import KPrototypes\n",
    "\n",
    "# Testing clustering with only frequency 'Every day'\n",
    "alc_edu_freq = eurostat.AlcoholDataset('hlth_ehis_al1e')\n",
    "alc_edu_freq_data = alc_edu_freq.pivot_dataset.drop(['Every month','Every week','Less than once a month', 'Never or not in the last 12 months'], axis=1)\n",
    "alc_edu_freq_data = alc_edu_freq_data[alc_edu_freq_data['TIME_PERIOD'] == 2014].drop(['TIME_PERIOD'], axis=1)\n"
   ]
  },
  {
   "cell_type": "code",
   "execution_count": 19,
   "metadata": {},
   "outputs": [
    {
     "data": {
      "text/plain": [
       "[<matplotlib.lines.Line2D at 0x7f25cf8151c0>]"
      ]
     },
     "execution_count": 19,
     "metadata": {},
     "output_type": "execute_result"
    },
    {
     "data": {
      "image/png": "[encoded data removed]",
      "text/plain": [
       "<Figure size 432x288 with 1 Axes>"
      ]
     },
     "metadata": {
      "needs_background": "light"
     },
     "output_type": "display_data"
    }
   ],
   "source": [
    "# Test optimal number of cluster with elbow methods\n",
    "\n",
    "cost = []\n",
    "for num_clusters in list(range(1,10)):\n",
    "    kproto = KPrototypes(n_clusters=num_clusters, init='Cao')\n",
    "    kproto.fit_predict(alc_edu_freq_data, categorical=[0,1,2,3])\n",
    "    cost.append(kproto.cost_)\n",
    "\n",
    "plt.plot(cost)\n"
   ]
  },
  {
   "cell_type": "code",
   "execution_count": 20,
   "metadata": {},
   "outputs": [
    {
     "name": "stdout",
     "output_type": "stream",
     "text": [
      "[159135.47072265611, 59698.100072869085, 39740.3265423651, 29014.450189016454, 25168.14953934396, 23014.532525705774, 21703.332753474737, 20511.7396727178, 19695.314667113933]\n"
     ]
    }
   ],
   "source": [
    "print(cost)"
   ]
  },
  {
   "cell_type": "code",
   "execution_count": 21,
   "metadata": {},
   "outputs": [],
   "source": [
    "# Testing with optimal number of clusters\n",
    "\n",
    "kproto = KPrototypes(n_clusters=3, init='Cao')\n",
    "clusters = kproto.fit_predict(alc_edu_freq_data, categorical=[0,1,2,3])\n",
    "\n",
    "cluster_dict =[]\n",
    "for c in clusters:\n",
    "    cluster_dict.append(c)\n",
    "\n",
    "alc_edu_freq_with_clusters = alc_edu_freq_data.copy()\n",
    "alc_edu_freq_with_clusters['clusters'] = cluster_dict"
   ]
  },
  {
   "cell_type": "code",
   "execution_count": 22,
   "metadata": {},
   "outputs": [],
   "source": [
    "alc_edu_freq_data_clust_0 = alc_edu_freq_with_clusters[alc_edu_freq_with_clusters['clusters'] == 0 ]\n",
    "alc_edu_freq_data_clust_1 = alc_edu_freq_with_clusters[alc_edu_freq_with_clusters['clusters'] == 1 ]\n",
    "alc_edu_freq_data_clust_2 = alc_edu_freq_with_clusters[alc_edu_freq_with_clusters['clusters'] == 2 ]"
   ]
  }
 ],
 "metadata": {
  "kernelspec": {
   "display_name": "Python 3",
   "language": "python",
   "name": "python3"
  },
  "language_info": {
   "codemirror_mode": {
    "name": "ipython",
    "version": 3
   },
   "file_extension": ".py",
   "mimetype": "text/x-python",
   "name": "python",
   "nbconvert_exporter": "python",
   "pygments_lexer": "ipython3",
   "version": "3.8.10"
  }
 },
 "nbformat": 4,
 "nbformat_minor": 2
}
