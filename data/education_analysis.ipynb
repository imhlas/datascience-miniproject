{
 "cells": [
  {
   "cell_type": "code",
   "execution_count": 1,
   "metadata": {},
   "outputs": [],
   "source": [
    "import data_mod as eurostat\n",
    "import matplotlib.pyplot as plt\n",
    "import numpy as np\n",
    "from sklearn.metrics import silhouette_score\n",
    "from kmodes.kprototypes import KPrototypes\n",
    "from sklearn.preprocessing import PowerTransformer\n",
    "\n",
    "#https://kprototypes.readthedocs.io/en/latest/api.html\n"
   ]
  },
  {
   "cell_type": "code",
   "execution_count": 29,
   "metadata": {},
   "outputs": [],
   "source": [
    "\n",
    "# Testing clustering with only frequency 'Every day'\n",
    "alc_edu_freq = eurostat.AlcoholDataset(dataset_name='hlth_ehis_al1e', dataset_group='education', frequences= ['Every day']).get_dataset()\n",
    "alc_edu_freq_data = alc_edu_freq[alc_edu_freq['TIME_PERIOD'] == 2014].drop(['TIME_PERIOD'], axis=1)\n"
   ]
  },
  {
   "cell_type": "markdown",
   "metadata": {},
   "source": [
    "1. Testing with only one frequency value"
   ]
  },
  {
   "cell_type": "code",
   "execution_count": 3,
   "metadata": {},
   "outputs": [
    {
     "data": {
      "text/plain": [
       "[<matplotlib.lines.Line2D at 0x7f1a9c3405e0>]"
      ]
     },
     "execution_count": 3,
     "metadata": {},
     "output_type": "execute_result"
    },
    {
     "data": {
      "image/png": "[encoded data removed]",
      "text/plain": [
       "<Figure size 432x288 with 1 Axes>"
      ]
     },
     "metadata": {
      "needs_background": "light"
     },
     "output_type": "display_data"
    }
   ],
   "source": [
    "# Test optimal number of cluster with elbow method\n",
    "\n",
    "cost = []\n",
    "for num_clusters in list(range(1,10)):\n",
    "    kproto = KPrototypes(n_clusters=num_clusters, init='Cao')\n",
    "    kproto.fit_predict(alc_edu_freq_data, categorical=[0,1,2,3])\n",
    "    cost.append(kproto.cost_)\n",
    "\n",
    "plt.plot(cost)\n"
   ]
  },
  {
   "cell_type": "code",
   "execution_count": 4,
   "metadata": {},
   "outputs": [
    {
     "name": "stdout",
     "output_type": "stream",
     "text": [
      "[139705.19724571536, 53579.57280995628, 35391.55322867352, 25668.639499937362, 22083.38438221134, 20202.827459616074, 19063.87452644401, 18157.457086242448, 17438.239634066143]\n"
     ]
    }
   ],
   "source": [
    "print(cost)"
   ]
  },
  {
   "cell_type": "code",
   "execution_count": 5,
   "metadata": {},
   "outputs": [],
   "source": [
    "# Testing with optimal number of clusters\n",
    "\n",
    "kproto = KPrototypes(n_clusters=3, init='Cao')\n",
    "clusters = kproto.fit_predict(alc_edu_freq_data, categorical=[0,1,2,3])\n",
    "\n",
    "cluster_dict =[]\n",
    "for c in clusters:\n",
    "    cluster_dict.append(c)\n",
    "\n",
    "alc_edu_freq_with_clusters = alc_edu_freq_data.copy()\n",
    "alc_edu_freq_with_clusters['clusters'] = cluster_dict"
   ]
  },
  {
   "cell_type": "code",
   "execution_count": 6,
   "metadata": {},
   "outputs": [],
   "source": [
    "alc_edu_freq_data_clust_0 = alc_edu_freq_with_clusters[alc_edu_freq_with_clusters['clusters'] == 0 ]\n",
    "alc_edu_freq_data_clust_1 = alc_edu_freq_with_clusters[alc_edu_freq_with_clusters['clusters'] == 1 ]\n",
    "alc_edu_freq_data_clust_2 = alc_edu_freq_with_clusters[alc_edu_freq_with_clusters['clusters'] == 2 ]"
   ]
  },
  {
   "cell_type": "markdown",
   "metadata": {},
   "source": [
    "2. Test with feature reduction applied to frequencies"
   ]
  },
  {
   "cell_type": "code",
   "execution_count": 2,
   "metadata": {},
   "outputs": [
    {
     "name": "stderr",
     "output_type": "stream",
     "text": [
      "/home/ncnella/Matikka/Introduction to data science/mini-project/datascience-miniproject/data/data_mod.py:94: SettingWithCopyWarning: \n",
      "A value is trying to be set on a copy of a slice from a DataFrame\n",
      "\n",
      "See the caveats in the documentation: https://pandas.pydata.org/pandas-docs/stable/user_guide/indexing.html#returning-a-view-versus-a-copy\n",
      "  self.filtered_data['frequenc'].replace({\n"
     ]
    }
   ],
   "source": [
    "alc_edu_freq_red = eurostat.AlcoholDataset(dataset_name='hlth_ehis_al1e',\n",
    "                                           dataset_group='education',\n",
    "                                           feature_reduction=True\n",
    "                                           ).get_dataset()\n",
    "alc_edu_freq_red_data = alc_edu_freq_red[alc_edu_freq_red['TIME_PERIOD'] == 2014].drop(['TIME_PERIOD'], axis=1)\n",
    "\n",
    "\n",
    "# Preprocessing\n",
    "# https://antonsruberts.github.io/kproto-audience/\n",
    "\n",
    "for c in alc_edu_freq_red_data.select_dtypes(exclude='object').columns:\n",
    "    pt = PowerTransformer()\n",
    "    alc_edu_freq_red_data[c] =  pt.fit_transform(np.array(alc_edu_freq_red_data[c]).reshape(-1, 1))"
   ]
  },
  {
   "cell_type": "code",
   "execution_count": 13,
   "metadata": {},
   "outputs": [
    {
     "name": "stdout",
     "output_type": "stream",
     "text": [
      "<kneed.knee_locator.KneeLocator object at 0x7fe57520ae20>\n"
     ]
    },
    {
     "data": {
      "image/png": "[encoded data removed]",
      "text/plain": [
       "<Figure size 432x288 with 1 Axes>"
      ]
     },
     "metadata": {
      "needs_background": "light"
     },
     "output_type": "display_data"
    }
   ],
   "source": [
    "# Test optimal number of cluster with elbow method\n",
    "\n",
    "costs = []\n",
    "for num_clusters in list(range(1,16)):\n",
    "    kproto = KPrototypes(n_clusters=num_clusters, init='Cao')\n",
    "    kproto.fit_predict(alc_edu_freq_red_data, categorical=[0,1,2,3])\n",
    "    costs.append(kproto.cost_)\n",
    "\n",
    "plt.plot(costs)\n",
    "\n",
    "from kneed import KneeLocator\n",
    "\n",
    "cost_elbow = KneeLocator(x=range(1,16), y=costs, direction='decreasing')\n",
    "\n",
    "print(cost_elbow)"
   ]
  },
  {
   "cell_type": "code",
   "execution_count": 10,
   "metadata": {},
   "outputs": [
    {
     "name": "stdout",
     "output_type": "stream",
     "text": [
      "15\n"
     ]
    }
   ],
   "source": [
    "print(cost_elbow.elbow)"
   ]
  },
  {
   "cell_type": "code",
   "execution_count": 17,
   "metadata": {},
   "outputs": [
    {
     "name": "stdout",
     "output_type": "stream",
     "text": [
      "[5284.999999999996, 3834.591731575818, 3065.7646993638955, 2459.7673785862157, 2252.2783536087322, 2056.510478635786, 1902.2590720708156, 1819.8384020338044, 1770.1975718725896]\n"
     ]
    }
   ],
   "source": [
    "print(cost)"
   ]
  },
  {
   "cell_type": "code",
   "execution_count": 19,
   "metadata": {},
   "outputs": [],
   "source": [
    "# Testing with optimal number of clusters\n",
    "\n",
    "kproto = KPrototypes(n_clusters=3, init='Cao')\n",
    "clusters = kproto.fit_predict(alc_edu_freq_red_data, categorical=[0,1,2,3])\n",
    "\n",
    "cluster_dict =[]\n",
    "for c in clusters:\n",
    "    cluster_dict.append(c)\n",
    "\n",
    "alc_edu_freq_red_clusters = alc_edu_freq_red_data.copy()\n",
    "alc_edu_freq_red_clusters['clusters'] = cluster_dict"
   ]
  },
  {
   "cell_type": "code",
   "execution_count": 20,
   "metadata": {},
   "outputs": [],
   "source": [
    "alc_edu_freq_red_clusters_0 = alc_edu_freq_red_clusters[alc_edu_freq_red_clusters['clusters'] == 0 ]\n",
    "alc_edu_freq_red_clusters_1 = alc_edu_freq_red_clusters[alc_edu_freq_red_clusters['clusters'] == 1 ]\n",
    "alc_edu_freq_red_clusters_2 = alc_edu_freq_red_clusters[alc_edu_freq_red_clusters['clusters'] == 2 ]"
   ]
  },
  {
   "cell_type": "markdown",
   "metadata": {},
   "source": [
    "2. Test with feature reduction applied to frequencies and different age group"
   ]
  },
  {
   "cell_type": "code",
   "execution_count": 12,
   "metadata": {},
   "outputs": [
    {
     "name": "stderr",
     "output_type": "stream",
     "text": [
      "/home/ncnella/Matikka/Introduction to data science/mini-project/datascience-miniproject/data/data_mod.py:94: SettingWithCopyWarning: \n",
      "A value is trying to be set on a copy of a slice from a DataFrame\n",
      "\n",
      "See the caveats in the documentation: https://pandas.pydata.org/pandas-docs/stable/user_guide/indexing.html#returning-a-view-versus-a-copy\n",
      "  self.filtered_data['frequenc'].replace({\n"
     ]
    }
   ],
   "source": [
    "new_age_group = ['From 18 to 44 years','From 45 to 64 years','65 years or over']\n",
    "\n",
    "alc_edu_freq_red_ages = eurostat.AlcoholDataset(dataset_name='hlth_ehis_al1e',\n",
    "                                           dataset_group='education',\n",
    "                                           feature_reduction=True,\n",
    "                                           ages=new_age_group\n",
    "                                           ).get_dataset()\n",
    "\n",
    "alc_edu_freq_red_ages = alc_edu_freq_red_ages[alc_edu_freq_red_ages['TIME_PERIOD'] == 2014].drop(['TIME_PERIOD'], axis=1)\n",
    "\n",
    "for c in alc_edu_freq_red_ages.select_dtypes(exclude='object').columns:\n",
    "    pt = PowerTransformer()\n",
    "    alc_edu_freq_red_ages[c] =  pt.fit_transform(np.array(alc_edu_freq_red_ages[c]).reshape(-1, 1))"
   ]
  },
  {
   "cell_type": "code",
   "execution_count": 27,
   "metadata": {},
   "outputs": [
    {
     "data": {
      "text/plain": [
       "[<matplotlib.lines.Line2D at 0x7fe574ed6f70>]"
      ]
     },
     "execution_count": 27,
     "metadata": {},
     "output_type": "execute_result"
    },
    {
     "data": {
      "image/png": "[encoded data removed]",
      "text/plain": [
       "<Figure size 432x288 with 1 Axes>"
      ]
     },
     "metadata": {
      "needs_background": "light"
     },
     "output_type": "display_data"
    }
   ],
   "source": [
    "# Test optimal number of cluster with elbow method\n",
    "\n",
    "costs = []\n",
    "\n",
    "for num_clusters in list(range(1,16)):\n",
    "    kproto = KPrototypes(n_clusters=num_clusters, init='Cao')\n",
    "    clusters = kproto.fit_predict(alc_edu_freq_red_ages, categorical=[0,1,2,3])\n",
    "    costs.append(kproto.cost_)\n",
    "\n",
    "plt.plot(costs)"
   ]
  },
  {
   "cell_type": "code",
   "execution_count": 28,
   "metadata": {},
   "outputs": [
    {
     "name": "stdout",
     "output_type": "stream",
     "text": [
      "[2217.000000000002, 1495.6910994435361, 1135.2050040806462, 998.5567417543898, 903.0023340487188, 834.8938671864504, 793.0665281622888, 759.4090956865429, 732.7422941630075, 707.368923071813, 684.602348771964, 663.9056497628601, 643.0464711091724, 625.093534019664, 611.9162744347816]\n",
      "4\n"
     ]
    }
   ],
   "source": [
    "print(costs)\n",
    "cost_elbow = KneeLocator(x=range(1,16), y=costs, curve='convex', direction='decreasing')\n",
    "print(cost_elbow.elbow)"
   ]
  },
  {
   "cell_type": "code",
   "execution_count": null,
   "metadata": {},
   "outputs": [],
   "source": [
    "cluster_dict =[]\n",
    "for c in clusters:\n",
    "    cluster_dict.append(c)\n",
    "\n",
    "alc_edu_freq_red_clusters = alc_edu_freq_red_data.copy()\n",
    "alc_edu_freq_red_clusters['clusters'] = cluster_dict"
   ]
  }
 ],
 "metadata": {
  "kernelspec": {
   "display_name": "Python 3",
   "language": "python",
   "name": "python3"
  },
  "language_info": {
   "codemirror_mode": {
    "name": "ipython",
    "version": 3
   },
   "file_extension": ".py",
   "mimetype": "text/x-python",
   "name": "python",
   "nbconvert_exporter": "python",
   "pygments_lexer": "ipython3",
   "version": "3.8.10"
  }
 },
 "nbformat": 4,
 "nbformat_minor": 2
}
