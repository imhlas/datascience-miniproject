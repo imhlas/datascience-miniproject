{
 "cells": [
  {
   "cell_type": "code",
   "execution_count": 1,
   "id": "5b738a39",
   "metadata": {},
   "outputs": [],
   "source": [
    "import pandas as pd"
   ]
  },
  {
   "cell_type": "code",
   "execution_count": 2,
   "id": "eb8082b2",
   "metadata": {},
   "outputs": [],
   "source": [
    "# Function for extracting data from eurostat \n",
    "\n",
    "def get_eurostat_datasets(dataset_name):\n",
    "    csv_url = f\"https://ec.europa.eu/eurostat/api/dissemination/sdmx/2.1/data/{dataset_name}/?format=SDMX-CSV&lang=en&label=label_only\"\n",
    "    return pd.read_csv(csv_url)"
   ]
  },
  {
   "cell_type": "code",
   "execution_count": 3,
   "id": "c907b2d1",
   "metadata": {},
   "outputs": [],
   "source": [
    "# Print all the column values\n",
    "\n",
    "def get_column_values(dataset):\n",
    "    unique_column_values = {}\n",
    "    for column in dataset.columns:\n",
    "        if dataset[column].dtype == object:\n",
    "            unique_column_values.update({column: dataset[column].unique()})\n",
    "\n",
    "    return unique_column_values"
   ]
  },
  {
   "cell_type": "code",
   "execution_count": 4,
   "id": "5ec35985",
   "metadata": {},
   "outputs": [],
   "source": [
    "# Get frequencies by alcohol consumption datasets\n",
    "\n",
    "freq_education = get_eurostat_datasets('hlth_ehis_al1e')\n",
    "freq_income = get_eurostat_datasets('hlth_ehis_al1i')\n",
    "freq_urbanisation = get_eurostat_datasets('hlth_ehis_al1u')"
   ]
  },
  {
   "cell_type": "code",
   "execution_count": 5,
   "id": "975ee076",
   "metadata": {},
   "outputs": [
    {
     "data": {
      "text/plain": [
       "{'DATAFLOW': array(['ESTAT:HLTH_EHIS_AL1E(1.0)'], dtype=object),\n",
       " 'LAST UPDATE': array(['01/04/22 23:00:00'], dtype=object),\n",
       " 'freq': array(['Annual'], dtype=object),\n",
       " 'unit': array(['Percentage'], dtype=object),\n",
       " 'frequenc': array(['Every day', 'Less than once a month', 'Every month',\n",
       "        'Not in the last 12 months', 'Never',\n",
       "        'Never or not in the last 12 months', 'Every week'], dtype=object),\n",
       " 'isced11': array(['Less than primary, primary and lower secondary education (levels 0-2)',\n",
       "        'Upper secondary and post-secondary non-tertiary education (levels 3 and 4)',\n",
       "        'Tertiary education (levels 5-8)', 'All ISCED 2011 levels'],\n",
       "       dtype=object),\n",
       " 'sex': array(['Females', 'Males', 'Total'], dtype=object),\n",
       " 'age': array(['Total', 'From 15 to 19 years', 'From 15 to 24 years',\n",
       "        'From 15 to 29 years', 'From 15 to 64 years',\n",
       "        'From 18 to 24 years', 'From 18 to 44 years',\n",
       "        'From 18 to 64 years', 'From 20 to 24 years',\n",
       "        'From 25 to 29 years', 'From 25 to 34 years',\n",
       "        'From 25 to 64 years', 'From 35 to 44 years',\n",
       "        'From 45 to 54 years', 'From 45 to 64 years',\n",
       "        'From 55 to 64 years', 'From 65 to 74 years', '18 years or over',\n",
       "        '65 years or over', '75 years or over'], dtype=object),\n",
       " 'geo': array(['Austria', 'Belgium', 'Bulgaria', 'Cyprus', 'Czechia', 'Germany',\n",
       "        'Denmark', 'Estonia', 'Greece', 'Spain',\n",
       "        'European Union - 27 countries (from 2020)',\n",
       "        'European Union - 28 countries (2013-2020)', 'Finland', 'France',\n",
       "        'Croatia', 'Hungary', 'Ireland', 'Iceland', 'Italy', 'Lithuania',\n",
       "        'Luxembourg', 'Latvia', 'Malta', 'Netherlands', 'Norway', 'Poland',\n",
       "        'Portugal', 'Romania', 'Serbia', 'Sweden', 'Slovenia', 'Slovakia',\n",
       "        'Türkiye', 'United Kingdom'], dtype=object),\n",
       " 'OBS_FLAG': array([nan, 'u', 'e', 'd', 'du'], dtype=object)}"
      ]
     },
     "execution_count": 5,
     "metadata": {},
     "output_type": "execute_result"
    }
   ],
   "source": [
    "get_column_values(freq_education)"
   ]
  },
  {
   "cell_type": "code",
   "execution_count": 6,
   "id": "f2b424ad",
   "metadata": {},
   "outputs": [],
   "source": [
    "# Get frequencies of heavy episodic drinking \n",
    "\n",
    "freq_heavy_education = get_eurostat_datasets('hlth_ehis_al3e')\n",
    "freq_heavy_income = get_eurostat_datasets('hlth_ehis_al3i')\n",
    "freq_heavy_urbanisation = get_eurostat_datasets('hlth_ehis_al3u')"
   ]
  },
  {
   "cell_type": "code",
   "execution_count": 7,
   "id": "8752e44b",
   "metadata": {},
   "outputs": [
    {
     "data": {
      "text/plain": [
       "{'DATAFLOW': array(['ESTAT:HLTH_EHIS_AL3E(1.0)'], dtype=object),\n",
       " 'LAST UPDATE': array(['01/04/22 23:00:00'], dtype=object),\n",
       " 'freq': array(['Annual'], dtype=object),\n",
       " 'unit': array(['Percentage'], dtype=object),\n",
       " 'frequenc': array(['At least once a week', 'Less than once a month', 'Every month',\n",
       "        'Never or not in the last 12 months'], dtype=object),\n",
       " 'isced11': array(['Less than primary, primary and lower secondary education (levels 0-2)',\n",
       "        'Upper secondary and post-secondary non-tertiary education (levels 3 and 4)',\n",
       "        'Tertiary education (levels 5-8)', 'All ISCED 2011 levels'],\n",
       "       dtype=object),\n",
       " 'sex': array(['Females', 'Males', 'Total'], dtype=object),\n",
       " 'age': array(['Total', 'From 15 to 19 years', 'From 15 to 24 years',\n",
       "        'From 15 to 29 years', 'From 15 to 64 years',\n",
       "        'From 18 to 24 years', 'From 18 to 44 years',\n",
       "        'From 18 to 64 years', 'From 20 to 24 years',\n",
       "        'From 25 to 29 years', 'From 25 to 34 years',\n",
       "        'From 25 to 64 years', 'From 35 to 44 years',\n",
       "        'From 45 to 54 years', 'From 45 to 64 years',\n",
       "        'From 55 to 64 years', 'From 65 to 74 years', '18 years or over',\n",
       "        '65 years or over', '75 years or over'], dtype=object),\n",
       " 'geo': array(['Austria', 'Belgium', 'Bulgaria', 'Cyprus', 'Czechia', 'Germany',\n",
       "        'Denmark', 'Estonia', 'Greece', 'Spain',\n",
       "        'European Union - 27 countries (from 2020)',\n",
       "        'European Union - 28 countries (2013-2020)', 'Finland', 'France',\n",
       "        'Croatia', 'Hungary', 'Ireland', 'Iceland', 'Italy', 'Lithuania',\n",
       "        'Luxembourg', 'Latvia', 'Malta', 'Netherlands', 'Norway', 'Poland',\n",
       "        'Portugal', 'Romania', 'Serbia', 'Sweden', 'Slovenia', 'Slovakia',\n",
       "        'Türkiye', 'United Kingdom'], dtype=object),\n",
       " 'OBS_FLAG': array([nan, 'u', 'e', 'd', 'du'], dtype=object)}"
      ]
     },
     "execution_count": 7,
     "metadata": {},
     "output_type": "execute_result"
    }
   ],
   "source": [
    "get_column_values(freq_heavy_education)"
   ]
  },
  {
   "cell_type": "code",
   "execution_count": 8,
   "id": "31dfa73a",
   "metadata": {},
   "outputs": [],
   "source": [
    "# Get frequencies of hazardous drinking \n",
    "\n",
    "freq_haz_education = get_eurostat_datasets('hlth_ehis_al2e')\n",
    "freq_haz_income = get_eurostat_datasets('hlth_ehis_al2i')\n",
    "freq_haz_urbanisation = get_eurostat_datasets('hlth_ehis_al2u')"
   ]
  },
  {
   "cell_type": "code",
   "execution_count": 9,
   "id": "c3b3fdb5",
   "metadata": {},
   "outputs": [
    {
     "data": {
      "text/plain": [
       "{'DATAFLOW': array(['ESTAT:HLTH_EHIS_AL2E(1.0)'], dtype=object),\n",
       " 'LAST UPDATE': array(['21/03/19 23:00:00'], dtype=object),\n",
       " 'freq': array(['Annual'], dtype=object),\n",
       " 'unit': array(['Percentage'], dtype=object),\n",
       " 'isced11': array(['Less than primary, primary and lower secondary education (levels 0-2)',\n",
       "        'Upper secondary and post-secondary non-tertiary education (levels 3 and 4)',\n",
       "        'Tertiary education (levels 5-8)', 'All ISCED 2011 levels'],\n",
       "       dtype=object),\n",
       " 'sex': array(['Females', 'Males', 'Total'], dtype=object),\n",
       " 'age': array(['Total', 'From 15 to 24 years', 'From 15 to 29 years',\n",
       "        'From 15 to 64 years', 'From 18 to 24 years',\n",
       "        'From 18 to 44 years', 'From 18 to 64 years',\n",
       "        'From 25 to 34 years', 'From 25 to 64 years',\n",
       "        'From 35 to 44 years', 'From 45 to 54 years',\n",
       "        'From 45 to 64 years', 'From 55 to 64 years',\n",
       "        'From 65 to 74 years', '18 years or over', '65 years or over',\n",
       "        '75 years or over', 'From 15 to 19 years', 'From 20 to 24 years',\n",
       "        'From 25 to 29 years'], dtype=object),\n",
       " 'geo': array(['Austria', 'Belgium', 'Bulgaria', 'Cyprus', 'Czechia', 'Germany',\n",
       "        'Denmark', 'Estonia', 'Greece', 'Spain',\n",
       "        'European Union - 27 countries (from 2020)',\n",
       "        'European Union - 28 countries (2013-2020)', 'Finland', 'Croatia',\n",
       "        'Hungary', 'Ireland', 'Iceland', 'Italy', 'Lithuania',\n",
       "        'Luxembourg', 'Latvia', 'Malta', 'Norway', 'Poland', 'Portugal',\n",
       "        'Romania', 'Sweden', 'Slovenia', 'Slovakia', 'Türkiye',\n",
       "        'United Kingdom'], dtype=object),\n",
       " 'OBS_FLAG': array([nan, 'e', 'u'], dtype=object)}"
      ]
     },
     "execution_count": 9,
     "metadata": {},
     "output_type": "execute_result"
    }
   ],
   "source": [
    "get_column_values(freq_haz_education)"
   ]
  }
 ],
 "metadata": {
  "kernelspec": {
   "display_name": "Python 3 (ipykernel)",
   "language": "python",
   "name": "python3"
  },
  "language_info": {
   "codemirror_mode": {
    "name": "ipython",
    "version": 3
   },
   "file_extension": ".py",
   "mimetype": "text/x-python",
   "name": "python",
   "nbconvert_exporter": "python",
   "pygments_lexer": "ipython3",
   "version": "3.8.10"
  }
 },
 "nbformat": 4,
 "nbformat_minor": 5
}
